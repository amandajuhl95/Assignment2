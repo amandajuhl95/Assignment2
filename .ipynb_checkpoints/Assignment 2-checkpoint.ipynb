{
 "cells": [
  {
   "cell_type": "markdown",
   "metadata": {},
   "source": [
    "# Databases for Developers - Assignment 2\n",
    "The following tasks should be handed in on Peergrade.\n",
    "\n",
    "## Task 1 - investigation\n",
    "Produce a small writeup (around 300 words) answering the following questions."
   ]
  },
  {
   "cell_type": "markdown",
   "metadata": {},
   "source": [
    "#### 1. What is point of NoSQL databases?\n",
    "\n",
    "Ulemper ved relationelle databaser:\n",
    "\n",
    "- De er svære at skalere horisontalt til flere maskiner (fremfor at øge RAM eller CPU)\n",
    "- De er komplekse at implementere\n",
    "- De er ikke fleksible (skemaerne er ikke fleksible)\n",
    "- De er ikke fejltolerante\n",
    "\n",
    "\n",
    "NoSQL-databaser forsøger at imødekomme disse mangler, da de er:\n",
    "\n",
    "- Skemaløs\n",
    "- Distribueret\n",
    "- Fejltolerant"
   ]
  },
  {
   "cell_type": "markdown",
   "metadata": {},
   "source": [
    "#### 2. What is the CAP theorem?\n",
    "\n",
    "CAP er teori om databaseopbygning og står for:\n",
    "\n",
    "- Consistency: Hver bruger får den samme data fra alle kilder under alle omstændigheder. Hvis en node mister forbindelsen, stopper den med at give brugerne svar i stedet for at svare dem med information der måske er forkert, fordi informationen kan være ændret på en anden node.\t\n",
    "\n",
    "\n",
    "- Avalibility: Hvis noder i systemet mister forbindelsen kan systemet stadig anvendes. Vi acceptere f.eks. at noget data leveret til brugerne kan være forkert, til gengæld virker vores system oftere. \n",
    "\n",
    "\n",
    "- Partition tolerance: Hvis et databasesystem er fordelt over flere servere, kan systemets opbygning håndtere hvis forbindelsen mellem dele af systemet brydes. Altså går en server ned eller mister forbindelsen til resten af systemet, kan en bruger stadig få fat i indholdet via de andre serverere.\n",
    "\n",
    "The CAP theorem siger, at du kan vælge to af disse egenskaber, og optimer til disse to når man opbygger databasesystemer\n"
   ]
  },
  {
   "cell_type": "markdown",
   "metadata": {},
   "source": [
    "#### 3. What are ideal use cases of HBase?\n",
    "\n",
    "Det vigtigste formål med brugen af en NoSQL-database er distribuerede datalagre ved behov for  datalagring af enorme mængder data. NoSQL bruges til bl.a. realtime web apps.\n",
    "\n",
    "Apache HBase bruges til læse- / skriveadgang i realtime til Big Data. Det er en ikke-relationel database modelleret efter Googles Bigtable. \n"
   ]
  },
  {
   "cell_type": "markdown",
   "metadata": {},
   "source": [
    "## Task 2 - Bloom filters\n",
    "Bloom filters are used in hbase as an incredible optimization. Solve the following."
   ]
  },
  {
   "cell_type": "markdown",
   "metadata": {},
   "source": [
    "#### 1. What is a bloom filter? \n",
    "\n",
    "Et Bloom-filter er en pladseffektiv datastruktur, der bruges til at teste, om et element er med i et sæt\n"
   ]
  },
  {
   "cell_type": "markdown",
   "metadata": {},
   "source": [
    "#### 2. What is an advantage of bloom filters over hash tables?\n",
    "\n",
    "Bloom filtre fylder meget mindre end et hash tables, derudover er søgning efter elementer meget hurtigere"
   ]
  },
  {
   "cell_type": "markdown",
   "metadata": {},
   "source": [
    "#### 3. What is a disadvantage of bloom filters? \n",
    "\n",
    "Bloom flitre kan give false positive svar"
   ]
  },
  {
   "cell_type": "markdown",
   "metadata": {},
   "source": [
    "#### 4. Using your language of choice, implement a bloom filter with add and check functions. The backing bit-array can simply be a long (64 bit integer)."
   ]
  },
  {
   "cell_type": "code",
   "execution_count": 1,
   "metadata": {},
   "outputs": [],
   "source": [
    "# Python 3 program to build Bloom Filter\n",
    "# Install mmh3 and bitarray 3rd party module:\n",
    "# pip install mmh3\n",
    "# pip install bitarray\n",
    "\n",
    "import math\n",
    "import mmh3\n",
    "from bitarray import bitarray\n",
    "import numpy as np\n",
    "from collections import OrderedDict"
   ]
  },
  {
   "cell_type": "code",
   "execution_count": 2,
   "metadata": {},
   "outputs": [],
   "source": [
    "class BloomFilter():\n",
    "\n",
    "    def __init__(self):\n",
    "        self.a = bitarray(2**6)\n",
    "        self.a.setall(False)\n",
    "\n",
    "    def add(self, item):\n",
    "        for i in range(3):\n",
    "            digest = mmh3.hash(item, i) % 64\n",
    "            self.a[digest] = 1     \n",
    "\n",
    "    def check(self, item):\n",
    "        for i in range(3):\n",
    "            digest = mmh3.hash(item, i) % 64\n",
    "            if self.a[digest] == False:\n",
    "                return False\n",
    "        return True"
   ]
  },
  {
   "cell_type": "code",
   "execution_count": 3,
   "metadata": {},
   "outputs": [
    {
     "data": {
      "text/plain": [
       "False"
      ]
     },
     "execution_count": 3,
     "metadata": {},
     "output_type": "execute_result"
    }
   ],
   "source": [
    "bf = BloomFilter()\n",
    "\n",
    "bf.add(\"Yarn\")\n",
    "bf.check(\"Plants\")"
   ]
  },
  {
   "cell_type": "code",
   "execution_count": 4,
   "metadata": {},
   "outputs": [
    {
     "data": {
      "text/plain": [
       "True"
      ]
     },
     "execution_count": 4,
     "metadata": {},
     "output_type": "execute_result"
    }
   ],
   "source": [
    "bf.check(\"Yarn\")"
   ]
  },
  {
   "cell_type": "markdown",
   "metadata": {},
   "source": [
    "#### 5. If you are to store one million ASCII strings with an average size of 10 characters in a hash set, what would be the approximate space consumption?"
   ]
  },
  {
   "cell_type": "markdown",
   "metadata": {},
   "source": [
    "Hver karakter fylder 1 byte derfor 10 * 1.000.000 = 10.000.000 bytes\n",
    "\n",
    "1 byte = 8 bits\n",
    "10.000.000 bytes * 8 = 80.000.000 bits"
   ]
  },
  {
   "cell_type": "markdown",
   "metadata": {},
   "source": [
    "#### 6. The following equation gives the required number of bits of space per inserted key, where E is the false positive rate.\n",
    "\n",
    "b = 1.44log2(1/E)"
   ]
  },
  {
   "cell_type": "markdown",
   "metadata": {},
   "source": [
    "#### 7. How many bits per element are required for a 1% false positive rate?\n",
    "\n",
    "1,44*log2(1/0,01) = 9,56 bits svarende til ca. 10 bits"
   ]
  },
  {
   "cell_type": "markdown",
   "metadata": {},
   "source": [
    "#### 8. How many bits per element are required for a 5% false positive rate? \n",
    "\n",
    "1,44*log2(1/0,05) = 6,22 bits svarende til ca. 6 bits"
   ]
  },
  {
   "cell_type": "markdown",
   "metadata": {},
   "source": [
    "#### 9. If you are to store one million ASCII strings with an average size of 10 characters in a bloom filter, what would be the approximate space consumption, given an allowed false positive rate of 5%?\n",
    "\n",
    "6,22 * 1.000.000 = 6.220.000 bits"
   ]
  },
  {
   "cell_type": "markdown",
   "metadata": {},
   "source": [
    "## Task 3 - Huffman coding\n",
    "\n",
    "HBase internally uses a compression that is a combination of LZ77 and Huffman\n",
    "Coding."
   ]
  },
  {
   "cell_type": "markdown",
   "metadata": {},
   "source": [
    "#### 1. Generate Huffmann Code (and draw the Huffmann Tree) based on the following string: “beebs beepps!!!!! their eerie ears hear pears”"
   ]
  },
  {
   "cell_type": "code",
   "execution_count": 41,
   "metadata": {},
   "outputs": [],
   "source": [
    "# Huffman Coding in python\n",
    "\n",
    "# Creating tree nodes\n",
    "class NodeTree(object):\n",
    "\n",
    "    def __init__(self, left=None, right=None):\n",
    "        self.left = left\n",
    "        self.right = right\n",
    "\n",
    "    def children(self):\n",
    "        return (self.left, self.right)\n",
    "\n",
    "    def nodes(self):\n",
    "        return (self.left, self.right)\n",
    "\n",
    "    def __str__(self):\n",
    "        return '%s_%s' % (self.left, self.right)\n",
    "\n",
    "\n",
    "# Main function implementing huffman coding\n",
    "def huffman_code_tree(node, left=True, binString=''):\n",
    "    if type(node) is str:\n",
    "        return {node: binString}\n",
    "    (l, r) = node.children()\n",
    "    d = dict()\n",
    "    d.update(huffman_code_tree(l, True, binString + '0'))\n",
    "    d.update(huffman_code_tree(r, False, binString + '1'))\n",
    "    return d\n",
    "\n",
    "# Calculating frequency\n",
    "def calc_char_frequency(input_str):\n",
    "    chars = {}\n",
    "    for c in input_str:\n",
    "        if c in chars:\n",
    "            chars[c] += 1\n",
    "        else:\n",
    "            chars[c] = 1\n",
    "\n",
    "    chars = sorted(chars.items(), key=lambda x: x[1], reverse=True)\n",
    "    return chars\n",
    "\n",
    "def make_huffman_code(input_str):\n",
    "    nodes = calc_char_frequency(input_str)\n",
    "    while len(nodes) > 1:\n",
    "        (key1, c1) = nodes[-1]\n",
    "        (key2, c2) = nodes[-2]\n",
    "        nodes = nodes[:-2]\n",
    "        node = NodeTree(key1, key2)\n",
    "        nodes.append((node, c1 + c2))\n",
    "\n",
    "        nodes = sorted(nodes, key=lambda x: x[1], reverse=True)\n",
    "    huffman_code = huffman_code_tree(nodes[0][0])\n",
    "    return huffman_code  "
   ]
  },
  {
   "cell_type": "code",
   "execution_count": 46,
   "metadata": {},
   "outputs": [
    {
     "name": "stdout",
     "output_type": "stream",
     "text": [
      "{'h': '0000', 't': '00010', 'i': '00011', 'r': '001', '!': '010', 'a': '0110', 'p': '0111', 'e': '10', ' ': '110', 'b': '1110', 's': '1111'}\n",
      "----------------------\n",
      " Char | Huffman code \n",
      "----------------------\n",
      " 'e'  |          10\n",
      " ' '  |         110\n",
      " '!'  |         010\n",
      " 'r'  |         001\n",
      " 's'  |        1111\n",
      " 'b'  |        1110\n",
      " 'p'  |        0111\n",
      " 'a'  |        0110\n",
      " 'h'  |        0000\n",
      " 'i'  |       00011\n",
      " 't'  |       00010\n"
     ]
    }
   ],
   "source": [
    "huffman_code = make_huffman_code(\"beebs beepps!!!!! their eerie ears hear pears\")\n",
    "\n",
    "print(huffman_code)\n",
    "print('----------------------')\n",
    "\n",
    "print(' Char | Huffman code ')\n",
    "print('----------------------')\n",
    "for (char, frequency) in freq:\n",
    "    print(' %-4r |%12s' % (char, huffmanCode[char]))"
   ]
  },
  {
   "cell_type": "markdown",
   "metadata": {},
   "source": [
    "#### 2. How many bits is the compressed string? How many bits is the raw ASCII string?\n"
   ]
  },
  {
   "cell_type": "code",
   "execution_count": 68,
   "metadata": {},
   "outputs": [],
   "source": [
    "def bits_size(input_str):\n",
    "    num_of_bytes = len(input_str.encode('utf-8'))\n",
    "    num_of_bits = num_of_bytes * 8 # 1 byte = 8 bits\n",
    "    return num_of_bits"
   ]
  },
  {
   "cell_type": "code",
   "execution_count": 70,
   "metadata": {},
   "outputs": [
    {
     "name": "stdout",
     "output_type": "stream",
     "text": [
      "Compressed string: 328\n",
      "Raw ASCII string: 360\n"
     ]
    }
   ],
   "source": [
    "compressed_str = \"\"\n",
    "    \n",
    "for key in huffman_code.keys():\n",
    "    compressed_str += huffman_code[key]\n",
    "\n",
    "\n",
    "print(\"Compressed string:\", bits_size(compressed_str))\n",
    "print(\"Raw ASCII string:\", bits_size(\"beebs beepps!!!!! their eerie ears hear pears\"))"
   ]
  },
  {
   "cell_type": "markdown",
   "metadata": {},
   "source": [
    "#### 3. Compress “pete is here” with the Huffmann tree from before."
   ]
  },
  {
   "cell_type": "code",
   "execution_count": 71,
   "metadata": {},
   "outputs": [
    {
     "name": "stdout",
     "output_type": "stream",
     "text": [
      "{'e': '0', 'r': '1000', 'h': '1001', ' ': '101', 't': '1100', 'p': '1101', 's': '1110', 'i': '1111'}\n"
     ]
    }
   ],
   "source": [
    "huffman_code_pete = make_huffman_code(\"pete is here\")\n",
    "print(huffman_code_pete)"
   ]
  },
  {
   "cell_type": "markdown",
   "metadata": {},
   "source": [
    "## Task 4 - Map and Reduce\n",
    "\n",
    "Solve the following using Javascript, for example in your browser’s developer\n",
    "console.\n",
    "\n",
    "#### 1. Map the list of numbers to a list of their square roots: [1, 9, 16, 100]"
   ]
  },
  {
   "cell_type": "code",
   "execution_count": 72,
   "metadata": {},
   "outputs": [
    {
     "data": {
      "text/plain": [
       "[1.0, 3.0, 4.0, 10.0]"
      ]
     },
     "execution_count": 72,
     "metadata": {},
     "output_type": "execute_result"
    }
   ],
   "source": [
    "from math import sqrt \n",
    "\n",
    "nums = [1, 9, 16, 100] \n",
    "result = list(map(lambda x: sqrt(x), nums)) \n",
    "result"
   ]
  },
  {
   "cell_type": "markdown",
   "metadata": {},
   "source": [
    "#### 2. Map the list of words so each is wrapped in a  < h1 > tag: [“Intro”, “Requirements”, “Analysis”, “Implementation”, “Conclusion”, “Discussion”,“References”]"
   ]
  },
  {
   "cell_type": "code",
   "execution_count": 73,
   "metadata": {},
   "outputs": [
    {
     "data": {
      "text/plain": [
       "['<h1>Intro</h1>',\n",
       " '<h1>Requirements</h1>',\n",
       " '<h1>Analysis</h1>',\n",
       " '<h1>Implementation</h1>',\n",
       " '<h1>Conclusion</h1>',\n",
       " '<h1>Discussion</h1>',\n",
       " '<h1>References</h1>']"
      ]
     },
     "execution_count": 73,
     "metadata": {},
     "output_type": "execute_result"
    }
   ],
   "source": [
    "words = ['Intro', 'Requirements', 'Analysis', 'Implementation', 'Conclusion', 'Discussion', 'References']\n",
    "result = list(map(lambda x: \"<h1>{}</h1>\".format(x), words))\n",
    "result"
   ]
  },
  {
   "cell_type": "markdown",
   "metadata": {},
   "source": [
    "#### 3. Use map to uppercase the words (all letters): [“i’m”, “yelling”, “today”]"
   ]
  },
  {
   "cell_type": "code",
   "execution_count": 74,
   "metadata": {},
   "outputs": [
    {
     "data": {
      "text/plain": [
       "['I’M', 'YELLING', 'TODAY']"
      ]
     },
     "execution_count": 74,
     "metadata": {},
     "output_type": "execute_result"
    }
   ],
   "source": [
    "words =  [\"i’m\", \"yelling\", \"today\"]\n",
    "\n",
    "result = list(map(lambda x: x.upper(), words))\n",
    "result"
   ]
  },
  {
   "cell_type": "markdown",
   "metadata": {},
   "source": [
    "#### 4. Use map to transform words into their lengths: [“I”, “have”, “looooooong”,“words”]"
   ]
  },
  {
   "cell_type": "code",
   "execution_count": 75,
   "metadata": {},
   "outputs": [
    {
     "data": {
      "text/plain": [
       "[1, 4, 10, 5]"
      ]
     },
     "execution_count": 75,
     "metadata": {},
     "output_type": "execute_result"
    }
   ],
   "source": [
    "words =   [\"I\", \"have\", \"looooooong\", \"words\"]\n",
    "\n",
    "result = list(map(lambda x: len(x), words))\n",
    "result"
   ]
  },
  {
   "cell_type": "markdown",
   "metadata": {},
   "source": [
    "#### 5. Get the json file comics.json from the course site. Paste it into your browser’s Javascript console. Use map to get all the image urls, and wrap them in img-tags."
   ]
  },
  {
   "cell_type": "code",
   "execution_count": 80,
   "metadata": {},
   "outputs": [],
   "source": [
    "comics = [\n",
    "{\n",
    "  \"month\": \"1\",\n",
    "  \"num\": 43,\n",
    "  \"link\": \"\",\n",
    "  \"year\": \"2006\",\n",
    "  \"news\": \"\",\n",
    "  \"safe_title\": \"Red Spiders 2\",\n",
    "  \"transcript\": \"[[Red spiders, with round appendages at the end of each of their six legs, are seen navigating an environment of blocks and other geometric constructions]]\\n{{title text: This was actually drawn years before Red Spiders}}\",\n",
    "  \"alt\": \"This was actually drawn years before Red Spiders\",\n",
    "  \"img\": \"https://imgs.xkcd.com/comics/red_spiders_2.jpg\",\n",
    "  \"title\": \"Red Spiders 2\",\n",
    "  \"day\": \"1\"\n",
    "},\n",
    "{\n",
    "  \"month\": \"1\",\n",
    "  \"num\": 44,\n",
    "  \"link\": \"\",\n",
    "  \"year\": \"2006\",\n",
    "  \"news\": \"\",\n",
    "  \"safe_title\": \"Love\",\n",
    "  \"transcript\": \"[[A man and a woman stand facing one another]]\\nMan: I love you!\\nWoman: I love you!\\nMan: I love you more!\\nWoman: Yeah.\\n[[A man and a woman stand facing one another - saying nothing.]]\\n{{Alt-text: This one makes me wince every time I think about it}}\",\n",
    "  \"alt\": \"This one makes me wince every time I think about it\",\n",
    "  \"img\": \"https://imgs.xkcd.com/comics/love.jpg\",\n",
    "  \"title\": \"Love\",\n",
    "  \"day\": \"1\"\n",
    "},\n",
    "{\n",
    "  \"month\": \"1\",\n",
    "  \"num\": 45,\n",
    "  \"link\": \"\",\n",
    "  \"year\": \"2006\",\n",
    "  \"news\": \"\",\n",
    "  \"safe_title\": \"Schrodinger\",\n",
    "  \"transcript\": \"[[Label: Schrödinger's Comic]]\\n[[Two figures standing, one with a black hat]]\\nThe last panel of this comic is both funny and not funny at the same time.\\nUntil you read it, there's no way to tell which it will end up being.\\nShit.\\n{{alt: There was no alt-text until you moused over}}\",\n",
    "  \"alt\": \"There was no alt-text until you moused over\",\n",
    "  \"img\": \"https://imgs.xkcd.com/comics/schrodinger.jpg\",\n",
    "  \"title\": \"Schrodinger\",\n",
    "  \"day\": \"4\"\n",
    "},\n",
    "{\n",
    "  \"month\": \"1\",\n",
    "  \"num\": 46,\n",
    "  \"link\": \"\",\n",
    "  \"year\": \"2006\",\n",
    "  \"news\": \"\",\n",
    "  \"safe_title\": \"Secrets\",\n",
    "  \"transcript\": \"I just want you to share in my secrets\\n[[lonely looking girl staring down]]\\nand not run away\\n{{alt: I'm a big fan of Kurt Halsey}}\",\n",
    "  \"alt\": \"I'm a big fan of Kurt Halsey\",\n",
    "  \"img\": \"https://imgs.xkcd.com/comics/secrets.jpg\",\n",
    "  \"title\": \"Secrets\",\n",
    "  \"day\": \"6\"\n",
    "},\n",
    "{\n",
    "  \"month\": \"1\",\n",
    "  \"num\": 47,\n",
    "  \"link\": \"\",\n",
    "  \"year\": \"2006\",\n",
    "  \"news\": \"\",\n",
    "  \"safe_title\": \"Counter-Red Spiders\",\n",
    "  \"transcript\": \"[[A stack of stick figures, standing on each others shoulders extends from the bottom of the frame to the top.  Cuboids hang in the air]]\\nThe counter-red-spider offensive begins ...\\n{{title text: I hope we can stop them}}\",\n",
    "  \"alt\": \"I hope we can stop them\",\n",
    "  \"img\": \"https://imgs.xkcd.com/comics/counter-red-spiders.jpg\",\n",
    "  \"title\": \"Counter-Red Spiders\",\n",
    "  \"day\": \"9\"\n",
    "},\n",
    "{\n",
    "  \"month\": \"1\",\n",
    "  \"num\": 48,\n",
    "  \"link\": \"\",\n",
    "  \"year\": \"2006\",\n",
    "  \"news\": \"\",\n",
    "  \"safe_title\": \"Found\",\n",
    "  \"transcript\": \"[[A male and female stick figure are standing on a white hill (presumably snow) with a grey sky covered with thick streaks of white, and small pink dots]]\\nwe are just two people \\nwho found each other\\n{{No more, no less}}\",\n",
    "  \"alt\": \"No more, no less\",\n",
    "  \"img\": \"https://imgs.xkcd.com/comics/found.jpg\",\n",
    "  \"title\": \"Found\",\n",
    "  \"day\": \"12\"\n",
    "},\n",
    "{\n",
    "  \"month\": \"1\",\n",
    "  \"num\": 49,\n",
    "  \"link\": \"\",\n",
    "  \"year\": \"2006\",\n",
    "  \"news\": \"\",\n",
    "  \"safe_title\": \"Want\",\n",
    "  \"transcript\": \"I want to be brave enough to tell you how I feel.\\nI want to say \\\"I love you\\\" _before_ I hang up the phone for once.\\nI want to drive all night with you, listening to mix tapes, not caring where we end up.\\nOh, and I also really want to get with your sister.\\nI mean, DAMN.\\n{{title text: Well, she's pretty hot.}}\",\n",
    "  \"alt\": \"Well, she's pretty hot.\",\n",
    "  \"img\": \"https://imgs.xkcd.com/comics/want.jpg\",\n",
    "  \"title\": \"Want\",\n",
    "  \"day\": \"14\"\n",
    "},\n",
    "{\n",
    "  \"month\": \"1\",\n",
    "  \"num\": 50,\n",
    "  \"link\": \"\",\n",
    "  \"year\": \"2006\",\n",
    "  \"news\": \"\",\n",
    "  \"safe_title\": \"Penny Arcade\",\n",
    "  \"transcript\": \"Tycho: You know what? If you've never played the 1995 SNES RPG 'Seiken Densetsu' don't even _bother_ reading today's strip. We don't _need_ your kind here.\\n{{title text: Of course, Penny Arcade has already mocked themselves for this. They don't care.}}\",\n",
    "  \"alt\": \"Of course, Penny Arcade has already mocked themselves for this.  They don't care.\",\n",
    "  \"img\": \"https://imgs.xkcd.com/comics/penny_arcade.jpg\",\n",
    "  \"title\": \"Penny Arcade\",\n",
    "  \"day\": \"17\"\n",
    "}\n",
    "]"
   ]
  },
  {
   "cell_type": "code",
   "execution_count": 81,
   "metadata": {},
   "outputs": [
    {
     "data": {
      "text/plain": [
       "['<img>https://imgs.xkcd.com/comics/red_spiders_2.jpg</img>',\n",
       " '<img>https://imgs.xkcd.com/comics/love.jpg</img>',\n",
       " '<img>https://imgs.xkcd.com/comics/schrodinger.jpg</img>',\n",
       " '<img>https://imgs.xkcd.com/comics/secrets.jpg</img>',\n",
       " '<img>https://imgs.xkcd.com/comics/counter-red-spiders.jpg</img>',\n",
       " '<img>https://imgs.xkcd.com/comics/found.jpg</img>',\n",
       " '<img>https://imgs.xkcd.com/comics/want.jpg</img>',\n",
       " '<img>https://imgs.xkcd.com/comics/penny_arcade.jpg</img>']"
      ]
     },
     "execution_count": 81,
     "metadata": {},
     "output_type": "execute_result"
    }
   ],
   "source": [
    "result = list(map(lambda x: \"<img>{}</img>\".format(x[\"img\"]), comics))\n",
    "result"
   ]
  },
  {
   "cell_type": "markdown",
   "metadata": {},
   "source": [
    "#### 6. Use reduce to sum the array of numbers: [1,2,3,4,5]"
   ]
  },
  {
   "cell_type": "code",
   "execution_count": 83,
   "metadata": {},
   "outputs": [
    {
     "name": "stdout",
     "output_type": "stream",
     "text": [
      "15\n"
     ]
    }
   ],
   "source": [
    "import functools\n",
    "import operator\n",
    "\n",
    "numbers = [1,2,3,4,5]\n",
    "print (functools.reduce(operator.add,numbers))\n",
    "#Alternativly --> print (functools.reduce(lambda a,b : a+b,numbers))"
   ]
  },
  {
   "cell_type": "markdown",
   "metadata": {},
   "source": [
    "#### 7. Use reduce to sum the x-value of the objects in the array: [{x: 1},{x: 2},{x: 3}]"
   ]
  },
  {
   "cell_type": "code",
   "execution_count": 85,
   "metadata": {},
   "outputs": [
    {
     "data": {
      "text/plain": [
       "6"
      ]
     },
     "execution_count": 85,
     "metadata": {},
     "output_type": "execute_result"
    }
   ],
   "source": [
    "x_values =  [{\"x\": 1},{\"x\": 2},{\"x\": 3}]\n",
    "\n",
    "result = functools.reduce(lambda x, y: x + y['x'], x_values, 0)\n",
    "result"
   ]
  },
  {
   "cell_type": "markdown",
   "metadata": {},
   "source": [
    "#### 8. Use reduce to flatten an array of arrays: [[1,2],[3,4],[5,6]]"
   ]
  },
  {
   "cell_type": "code",
   "execution_count": 86,
   "metadata": {},
   "outputs": [
    {
     "data": {
      "text/plain": [
       "[1, 2, 3, 4, 5, 6]"
      ]
     },
     "execution_count": 86,
     "metadata": {},
     "output_type": "execute_result"
    }
   ],
   "source": [
    "numbers_array =  [[1,2],[3,4],[5,6]]\n",
    "\n",
    "result = functools.reduce(lambda x, y: x+y, numbers_array)\n",
    "result"
   ]
  },
  {
   "cell_type": "markdown",
   "metadata": {},
   "source": [
    "#### 9. Use reduce to return an array of the positive numbers: [-3, -1, 2, 4, 5]"
   ]
  },
  {
   "cell_type": "code",
   "execution_count": 88,
   "metadata": {},
   "outputs": [
    {
     "data": {
      "text/plain": [
       "[2, 4, 5]"
      ]
     },
     "execution_count": 88,
     "metadata": {},
     "output_type": "execute_result"
    }
   ],
   "source": [
    "numbers = [-3, -1, 2, 4, 5]\n",
    "\n",
    "result = list(filter(lambda x: x>0, numbers))\n",
    "result"
   ]
  }
 ],
 "metadata": {
  "kernelspec": {
   "display_name": "Python 3",
   "language": "python",
   "name": "python3"
  },
  "language_info": {
   "codemirror_mode": {
    "name": "ipython",
    "version": 3
   },
   "file_extension": ".py",
   "mimetype": "text/x-python",
   "name": "python",
   "nbconvert_exporter": "python",
   "pygments_lexer": "ipython3",
   "version": "3.7.4"
  }
 },
 "nbformat": 4,
 "nbformat_minor": 2
}
